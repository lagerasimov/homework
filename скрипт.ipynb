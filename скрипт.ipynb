{
  "nbformat": 4,
  "nbformat_minor": 0,
  "metadata": {
    "colab": {
      "provenance": [],
      "authorship_tag": "ABX9TyORxpJ6NlNZcMXOOnMhs+tF",
      "include_colab_link": true
    },
    "kernelspec": {
      "name": "python3",
      "display_name": "Python 3"
    },
    "language_info": {
      "name": "python"
    }
  },
  "cells": [
    {
      "cell_type": "markdown",
      "metadata": {
        "id": "view-in-github",
        "colab_type": "text"
      },
      "source": [
        "<a href=\"https://colab.research.google.com/github/lagerasimov/homework/blob/main/%D1%81%D0%BA%D1%80%D0%B8%D0%BF%D1%82.ipynb\" target=\"_parent\"><img src=\"https://colab.research.google.com/assets/colab-badge.svg\" alt=\"Open In Colab\"/></a>"
      ]
    },
    {
      "cell_type": "code",
      "execution_count": 1,
      "metadata": {
        "colab": {
          "base_uri": "https://localhost:8080/"
        },
        "id": "4hHJsQgVDCo1",
        "outputId": "151aa708-6c1d-498d-c286-47b7646f1eca"
      },
      "outputs": [
        {
          "output_type": "stream",
          "name": "stdout",
          "text": [
            "Requirement already satisfied: aiohttp in /usr/local/lib/python3.10/dist-packages (3.9.5)\n",
            "Collecting aiofiles\n",
            "  Downloading aiofiles-23.2.1-py3-none-any.whl (15 kB)\n",
            "Requirement already satisfied: beautifulsoup4 in /usr/local/lib/python3.10/dist-packages (4.12.3)\n",
            "Requirement already satisfied: aiosignal>=1.1.2 in /usr/local/lib/python3.10/dist-packages (from aiohttp) (1.3.1)\n",
            "Requirement already satisfied: attrs>=17.3.0 in /usr/local/lib/python3.10/dist-packages (from aiohttp) (23.2.0)\n",
            "Requirement already satisfied: frozenlist>=1.1.1 in /usr/local/lib/python3.10/dist-packages (from aiohttp) (1.4.1)\n",
            "Requirement already satisfied: multidict<7.0,>=4.5 in /usr/local/lib/python3.10/dist-packages (from aiohttp) (6.0.5)\n",
            "Requirement already satisfied: yarl<2.0,>=1.0 in /usr/local/lib/python3.10/dist-packages (from aiohttp) (1.9.4)\n",
            "Requirement already satisfied: async-timeout<5.0,>=4.0 in /usr/local/lib/python3.10/dist-packages (from aiohttp) (4.0.3)\n",
            "Requirement already satisfied: soupsieve>1.2 in /usr/local/lib/python3.10/dist-packages (from beautifulsoup4) (2.5)\n",
            "Requirement already satisfied: idna>=2.0 in /usr/local/lib/python3.10/dist-packages (from yarl<2.0,>=1.0->aiohttp) (3.7)\n",
            "Installing collected packages: aiofiles\n",
            "Successfully installed aiofiles-23.2.1\n"
          ]
        }
      ],
      "source": [
        "!pip install aiohttp aiofiles beautifulsoup4"
      ]
    },
    {
      "cell_type": "code",
      "source": [
        "import asyncio\n",
        "import aiohttp\n",
        "import aiofiles\n",
        "\n",
        "from bs4 import BeautifulSoup\n",
        "\n",
        "# Список URL-адресов для поиска ссылок\n",
        "urls = [\n",
        "    \"https://regex101.com/\",\n",
        "    \"https://docs.python.org/3/this-url-will-404.html\",\n",
        "    \"https://www.nytimes.com/guides/\",\n",
        "    \"https://www.mediamatters.org/\",\n",
        "    \"https://1.1.1.1/\",\n",
        "    \"https://www.politico.com/tipsheets/morning-money\",\n",
        "    \"https://www.bloomberg.com/markets/economics\",\n",
        "    \"https://www.ietf.org/rfc/rfc2616.txt\"\n",
        "]\n",
        "\n",
        "# Функция для загрузки содержимого страницы\n",
        "async def fetch_page(session, url):\n",
        "    async with session.get(url) as response:\n",
        "        return await response.text()\n",
        "\n",
        "# Функция для извлечения ссылок из HTML-кода страницы\n",
        "async def extract_links_from_page(url):\n",
        "    async with aiohttp.ClientSession() as session:\n",
        "        html = await fetch_page(session, url)\n",
        "        soup = BeautifulSoup(html, 'html.parser')\n",
        "        found_links = [link.get('href') for link in soup.find_all('a', href=True)]\n",
        "        return found_links\n",
        "\n",
        "# Главная функция\n",
        "async def main():\n",
        "    # Список для хранения всех найденных ссылок\n",
        "    all_links = set()\n",
        "\n",
        "    # Создаем файл для записи найденных ссылок\n",
        "    async with aiofiles.open('extracted_links.txt', 'w') as f:\n",
        "        # Проходимся по всем адресам\n",
        "        for url in urls:\n",
        "            # Извлекаем ссылки из каждой страницы\n",
        "            found_links = await extract_links_from_page(url)\n",
        "            # Записываем найденные ссылки в файл\n",
        "            for found_link in found_links:\n",
        "                if found_link:\n",
        "                    await f.write(found_link + '\\n')\n",
        "\n",
        "# Запускаем главную функцию\n",
        "await main()\n",
        "\n",
        "# Скачиваем файл с найденными ссылками\n",
        "from google.colab import files\n",
        "files.download('extracted_links.txt')"
      ],
      "metadata": {
        "colab": {
          "base_uri": "https://localhost:8080/",
          "height": 17
        },
        "id": "LOgU_TSJDJuB",
        "outputId": "e7f38ae3-e03c-4356-adfa-a908ae6c4e8c"
      },
      "execution_count": 3,
      "outputs": [
        {
          "output_type": "display_data",
          "data": {
            "text/plain": [
              "<IPython.core.display.Javascript object>"
            ],
            "application/javascript": [
              "\n",
              "    async function download(id, filename, size) {\n",
              "      if (!google.colab.kernel.accessAllowed) {\n",
              "        return;\n",
              "      }\n",
              "      const div = document.createElement('div');\n",
              "      const label = document.createElement('label');\n",
              "      label.textContent = `Downloading \"${filename}\": `;\n",
              "      div.appendChild(label);\n",
              "      const progress = document.createElement('progress');\n",
              "      progress.max = size;\n",
              "      div.appendChild(progress);\n",
              "      document.body.appendChild(div);\n",
              "\n",
              "      const buffers = [];\n",
              "      let downloaded = 0;\n",
              "\n",
              "      const channel = await google.colab.kernel.comms.open(id);\n",
              "      // Send a message to notify the kernel that we're ready.\n",
              "      channel.send({})\n",
              "\n",
              "      for await (const message of channel.messages) {\n",
              "        // Send a message to notify the kernel that we're ready.\n",
              "        channel.send({})\n",
              "        if (message.buffers) {\n",
              "          for (const buffer of message.buffers) {\n",
              "            buffers.push(buffer);\n",
              "            downloaded += buffer.byteLength;\n",
              "            progress.value = downloaded;\n",
              "          }\n",
              "        }\n",
              "      }\n",
              "      const blob = new Blob(buffers, {type: 'application/binary'});\n",
              "      const a = document.createElement('a');\n",
              "      a.href = window.URL.createObjectURL(blob);\n",
              "      a.download = filename;\n",
              "      div.appendChild(a);\n",
              "      a.click();\n",
              "      div.remove();\n",
              "    }\n",
              "  "
            ]
          },
          "metadata": {}
        },
        {
          "output_type": "display_data",
          "data": {
            "text/plain": [
              "<IPython.core.display.Javascript object>"
            ],
            "application/javascript": [
              "download(\"download_94f99c88-e34e-42a3-ba4a-b420b788a60f\", \"extracted_links.txt\", 11647)"
            ]
          },
          "metadata": {}
        }
      ]
    }
  ]
}